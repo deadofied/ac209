{
 "metadata": {
  "name": ""
 },
 "nbformat": 3,
 "nbformat_minor": 0,
 "worksheets": [
  {
   "cells": [
    {
     "cell_type": "markdown",
     "metadata": {},
     "source": [
      "# Homework 3. Bayesian Tomatoes"
     ]
    },
    {
     "cell_type": "markdown",
     "metadata": {},
     "source": [
      "Due Thursday, October 17, 11:59pm"
     ]
    },
    {
     "cell_type": "markdown",
     "metadata": {},
     "source": [
      "<div class=\"banner-container\">\n",
      "<img src=\"http://content7.flixster.com/movie/11/16/81/11168101_det.jpg\" width=180>\n",
      "</div>\n",
      "\n",
      "<div class=\"banner-container\">\n",
      "<img src=\"http://content6.flixster.com/movie/11/15/15/11151508_det.jpg\" width=180>\n",
      "</div>\n",
      "\n",
      "<div class=\"banner-container\">\n",
      "<img src=\"http://content9.flixster.com/movie/11/16/61/11166199_det.jpg\" width=180>\n",
      "</div>\n",
      "\n",
      "<div class=\"clear\"> </div>\n",
      "\n",
      "<style type=\"text/css\">\n",
      ".banner-container {\n",
      "height:350px;\n",
      "margin-left: 30px;\n",
      "float:left;\n",
      "}\n",
      ".clear {\n",
      "clear:both;\n",
      "}\n",
      "</style>"
     ]
    },
    {
     "cell_type": "markdown",
     "metadata": {},
     "source": [
      "In this assignment, you'll be analyzing movie reviews from [Rotten Tomatoes](http://www.rottentomatoes.com). This assignment will cover:\n",
      "\n",
      " * Working with web APIs\n",
      " * Making and interpreting predictions from a Bayesian perspective\n",
      " * Using the Naive Bayes algorithm to predict whether a movie review is positive or negative\n",
      " * Using cross validation to optimize models\n",
      "\n",
      "Useful libraries for this assignment\n",
      "\n",
      "* [numpy](http://docs.scipy.org/doc/numpy-dev/user/index.html), for arrays\n",
      "* [scikit-learn](http://scikit-learn.org/stable/), for machine learning\n",
      "* [json](http://docs.python.org/2/library/json.html) for parsing JSON data from the web.\n",
      "* [pandas](http://pandas.pydata.org/), for data frames\n",
      "* [matplotlib](http://matplotlib.org/), for plotting\n",
      "* [requests](http://docs.python-requests.org/en/latest/), for downloading web content"
     ]
    },
    {
     "cell_type": "code",
     "collapsed": false,
     "input": [
      "%matplotlib inline\n",
      "\n",
      "import json\n",
      "\n",
      "import requests\n",
      "import pandas as pd\n",
      "import numpy as np\n",
      "import matplotlib.pyplot as plt\n",
      "\n",
      "pd.set_option('display.width', 500)\n",
      "pd.set_option('display.max_columns', 30)\n",
      "\n",
      "# set some nicer defaults for matplotlib\n",
      "from matplotlib import rcParams\n",
      "\n",
      "#these colors come from colorbrewer2.org. Each is an RGB triplet\n",
      "dark2_colors = [(0.10588235294117647, 0.6196078431372549, 0.4666666666666667),\n",
      "                (0.8509803921568627, 0.37254901960784315, 0.00784313725490196),\n",
      "                (0.4588235294117647, 0.4392156862745098, 0.7019607843137254),\n",
      "                (0.9058823529411765, 0.1607843137254902, 0.5411764705882353),\n",
      "                (0.4, 0.6509803921568628, 0.11764705882352941),\n",
      "                (0.9019607843137255, 0.6705882352941176, 0.00784313725490196),\n",
      "                (0.6509803921568628, 0.4627450980392157, 0.11372549019607843),\n",
      "                (0.4, 0.4, 0.4)]\n",
      "\n",
      "rcParams['figure.figsize'] = (10, 6)\n",
      "rcParams['figure.dpi'] = 150\n",
      "rcParams['axes.color_cycle'] = dark2_colors\n",
      "rcParams['lines.linewidth'] = 2\n",
      "rcParams['axes.grid'] = False\n",
      "rcParams['axes.facecolor'] = 'white'\n",
      "rcParams['font.size'] = 14\n",
      "rcParams['patch.edgecolor'] = 'none'\n",
      "\n",
      "\n",
      "def remove_border(axes=None, top=False, right=False, left=True, bottom=True):\n",
      "    \"\"\"\n",
      "    Minimize chartjunk by stripping out unnecessary plot borders and axis ticks\n",
      "    \n",
      "    The top/right/left/bottom keywords toggle whether the corresponding plot border is drawn\n",
      "    \"\"\"\n",
      "    ax = axes or plt.gca()\n",
      "    ax.spines['top'].set_visible(top)\n",
      "    ax.spines['right'].set_visible(right)\n",
      "    ax.spines['left'].set_visible(left)\n",
      "    ax.spines['bottom'].set_visible(bottom)\n",
      "    \n",
      "    #turn off all ticks\n",
      "    ax.yaxis.set_ticks_position('none')\n",
      "    ax.xaxis.set_ticks_position('none')\n",
      "    \n",
      "    #now re-enable visibles\n",
      "    if top:\n",
      "        ax.xaxis.tick_top()\n",
      "    if bottom:\n",
      "        ax.xaxis.tick_bottom()\n",
      "    if left:\n",
      "        ax.yaxis.tick_left()\n",
      "    if right:\n",
      "        ax.yaxis.tick_right()"
     ],
     "language": "python",
     "metadata": {},
     "outputs": [],
     "prompt_number": 29
    },
    {
     "cell_type": "markdown",
     "metadata": {},
     "source": [
      "## Introduction\n",
      "\n",
      "Rotten Tomatoes gathers movie reviews from critics. An [entry on the website](http://www.rottentomatoes.com/m/primer/reviews/?type=top_critics) typically consists of a short quote, a link to the full review, and a Fresh/Rotten classification which summarizes whether the critic liked/disliked the movie.\n",
      "\n",
      "\n",
      "When critics give quantitative ratings (say 3/4 stars, Thumbs up, etc.), determining the Fresh/Rotten classification is easy. However, publications like the New York Times don't assign numerical ratings to movies, and thus the Fresh/Rotten classification must be inferred from the text of the review itself.\n",
      "\n",
      "This basic task of categorizing text has many applications. All of the following questions boil down to text classification:\n",
      "\n",
      " * Is a movie review positive or negative?\n",
      " * Is an email spam, or not?\n",
      " * Is a comment on a blog discussion board appropriate, or not?\n",
      " * Is a tweet about your company positive, or not?\n",
      " \n",
      "\n",
      "Language is incredibly nuanced, and there is an entire field of computer science dedicated to the topic (Natural Language Processing). Nevertheless, we can construct basic language models using fairly straightforward techniques. \n",
      "\n",
      "## The Data\n",
      "\n",
      "You will be starting with a database of Movies, derived from the MovieLens dataset. This dataset includes information for about 10,000 movies, including the IMDB id for each movie. \n",
      "\n",
      "Your first task is to download Rotten Tomatoes reviews from 3000 of these movies, using the Rotten Tomatoes API (Application Programming Interface)."
     ]
    },
    {
     "cell_type": "markdown",
     "metadata": {},
     "source": [
      "### Working with Web APIs\n",
      "Web APIs are a more convenient way for programs to interact with websites. Rotten Tomatoes has a nice API that gives access to its data in JSON format.\n",
      "\n",
      "To use this, you will first need to [register for an API key](http://developer.rottentomatoes.com/member/register). For \"application URL\", you can use anything -- it doesn't matter.\n",
      "\n",
      "After you have a key, the [documentation page](http://developer.rottentomatoes.com/iodocs) shows the various data you can fetch from Rotten Tomatoes -- each type of data lives at a different web address. The basic pattern for fetching this data with Python is as follows (compare this to the `Movie Reviews` tab on the documentation page):"
     ]
    },
    {
     "cell_type": "code",
     "collapsed": false,
     "input": [
      "api_key = 'mgn4gu4kps74d9yqzrgdtgvu'\n",
      "movie_id = '770672122'  # toy story 3\n",
      "url = 'http://api.rottentomatoes.com/api/public/v1.0/movies/%s/reviews.json' % movie_id\n",
      "\n",
      "#these are \"get parameters\"\n",
      "options = {'review_type': 'top_critic', 'page_limit': 20, 'page': 1, 'apikey': api_key}\n",
      "data = requests.get(url, params=options).text\n",
      "data = json.loads(data)  # load a json string into a collection of lists and dicts"
     ],
     "language": "python",
     "metadata": {},
     "outputs": [],
     "prompt_number": 30
    },
    {
     "cell_type": "markdown",
     "metadata": {},
     "source": [
      "## Part 1: Get the data\n",
      "Here's a chunk of the MovieLens Dataset:"
     ]
    },
    {
     "cell_type": "code",
     "collapsed": false,
     "input": [
      "from io import StringIO  \n",
      "movie_txt = requests.get('https://raw.github.com/cs109/cs109_data/master/movies.dat').text\n",
      "movie_file = StringIO(movie_txt) # treat a string like a file\n",
      "movies = pd.read_csv(movie_file, delimiter='\\t')\n",
      "\n",
      "#print the first row\n",
      "movies[['id', 'title', 'imdbID', 'year']].irow(0)"
     ],
     "language": "python",
     "metadata": {},
     "outputs": [
      {
       "metadata": {},
       "output_type": "pyout",
       "prompt_number": 31,
       "text": [
        "id                1\n",
        "title     Toy story\n",
        "imdbID       114709\n",
        "year           1995\n",
        "Name: 0, dtype: object"
       ]
      }
     ],
     "prompt_number": 31
    },
    {
     "cell_type": "markdown",
     "metadata": {},
     "source": [
      "#### P1.1\n",
      "\n",
      "We'd like you to write a function that looks up the first 20 Top Critic Rotten Tomatoes reviews for a movie in the `movies` dataframe. This involves two steps:\n",
      "\n",
      "1. Use the `Movie Alias` API to look up the Rotten Tomatoes movie id from the IMDB id\n",
      "1. Use the `Movie Reviews` API to fetch the first 20 top-critic reviews for this movie\n",
      "\n",
      "Not all movies have Rotten Tomatoes IDs. In these cases, your function should return `None`. The detailed spec is below. We are giving you some freedom with how you implement this, but you'll probably want to break this task up into several small functions.\n",
      "\n",
      "**Hint**\n",
      "In some situations, the leading 0s in front of IMDB ids are important. IMDB ids have 7 digits"
     ]
    },
    {
     "cell_type": "code",
     "collapsed": false,
     "input": [
      "\n"
     ],
     "language": "python",
     "metadata": {},
     "outputs": [],
     "prompt_number": 31
    },
    {
     "cell_type": "code",
     "collapsed": true,
     "input": [
      "\"\"\"\n",
      "Function\n",
      "--------\n",
      "fetch_reviews(movies, row)\n",
      "\n",
      "Use the Rotten Tomatoes web API to fetch reviews for a particular movie\n",
      "\n",
      "Parameters\n",
      "----------\n",
      "movies : DataFrame \n",
      "  The movies data above\n",
      "row : int\n",
      "  The row of the movies DataFrame to use\n",
      "  \n",
      "Returns\n",
      "-------\n",
      "If you can match the IMDB id to a Rotten Tomatoes ID:\n",
      "  A DataFrame, containing the first 20 Top Critic reviews \n",
      "  for the movie. If a movie has less than 20 total reviews, return them all.\n",
      "  This should have the following columns:\n",
      "    critic : Name of the critic\n",
      "    fresh  : 'fresh' or 'rotten'\n",
      "    imdb   : IMDB id for the movie\n",
      "    publication: Publication that the critic writes for\n",
      "    quote  : string containing the movie review quote\n",
      "    review_data: Date of review\n",
      "    rtid   : Rotten Tomatoes ID for the movie\n",
      "    title  : Name of the movie\n",
      "    \n",
      "If you cannot match the IMDB id to a Rotten Tomatoes ID, return None\n",
      "\n",
      "Examples\n",
      "--------\n",
      ">>> reviews = fetch_reviews(movies, 0)\n",
      ">>> print len(reviews)\n",
      "20\n",
      ">>> print reviews.irow(1)\n",
      "critic                                               Derek Adams\n",
      "fresh                                                      fresh\n",
      "imdb                                                      114709\n",
      "publication                                             Time Out\n",
      "quote          So ingenious in concept, design and execution ...\n",
      "review_date                                           2009-10-04\n",
      "rtid                                                        9559\n",
      "title                                                  Toy story\n",
      "Name: 1, dtype: object\n",
      "\"\"\"\n",
      "#your code here\n",
      "def fetch_reviews(movies,row):\n",
      "    imdbid=movies[['imdbID']].irow(row)[0]\n",
      "    #print 'imdbid is : ',imdbid\n",
      "    movie_title=movies[['title']].irow(row)[0]\n",
      "    #print 'movie title'\n",
      "    if len(str(imdbid))<7:\n",
      "        add=''\n",
      "        for i in xrange(7-len(str(imdbid))):\n",
      "            add=add+'0'\n",
      "        imdbid=add+str(imdbid)\n",
      "    else:\n",
      "        imdbid=str(imdbid) # this adds a 0 in the beginning of the imdbid\n",
      "    api_key = 'mgn4gu4kps74d9yqzrgdtgvu'\n",
      "    print 'imdb id after modifying', imdbid\n",
      "    url1='http://api.rottentomatoes.com/api/public/v1.0/movie_alias.json'\n",
      "    options1 = {'id': imdbid, 'type': 'imdb','apikey': api_key}\n",
      "    data_alias = requests.get(url1, params=options1).text\n",
      "    data_alias = json.loads(data_alias) \n",
      "    if 'error' in data_alias:\n",
      "        print 'There is no corresponding rotton tomato id for the given imdb id'\n",
      "        return None # if there is no movie corresponding to this imdbid, then return none\n",
      "    else:\n",
      "        rt_id = str(data_alias['id'])\n",
      "        url = 'http://api.rottentomatoes.com/api/public/v1.0/movies/%s/reviews.json' % rt_id\n",
      "        options = {'review_type': 'top_critic', 'page_limit': 20, 'page': 1, 'apikey': api_key}\n",
      "        data = requests.get(url, params=options).text\n",
      "        data = json.loads(data)  # load a json string into a collection of lists and dicts\n",
      "        if float(data['total'])>0:\n",
      "            newdata=pd.DataFrame.from_dict(data['reviews'])\n",
      "            df1 = pd.DataFrame(newdata['critic'], columns=['critic'])\n",
      "            df2 = pd.DataFrame(newdata['freshness'], columns=['fresh'])\n",
      "            df4 = pd.DataFrame(newdata['publication'], columns=['publication'])\n",
      "            df5 = pd.DataFrame(newdata['quote'], columns=['quote'])\n",
      "            df6 = pd.DataFrame(newdata['date'], columns=['review_date'])\n",
      "            df3=pd.DataFrame(df6.review_date.apply(lambda x:imdbid))\n",
      "            df7=pd.DataFrame(df6.review_date.apply(lambda x:rt_id))\n",
      "            #df7 = pd.DataFrame(np.array(rt_id_list), columns=['rtid'])\n",
      "            df8=pd.DataFrame(df6.review_date.apply(lambda x:movie_title))\n",
      "            #df8 = pd.DataFrame(np.array(title_list), columns=['title'])\n",
      "            df3.rename(columns={df3.columns[0]:'imdb'}, inplace=True)\n",
      "            df7.rename(columns={df7.columns[0]:'rtid'}, inplace=True)\n",
      "            df8.rename(columns={df8.columns[0]:'title'}, inplace=True)\n",
      "            reviews = pd.concat([df1, df2, df4,df5,df6,df3,df7,df8], join='outer', axis=1)\n",
      "            return reviews\n",
      "        else: # for cases when there is no review for this movie\n",
      "            print 'There is no review for this movie'\n",
      "            return None\n",
      "    \n",
      "reviews=fetch_reviews(movies, 1)\n",
      "print reviews\n",
      "#print json.dumps(data['reviews'][0], indent=2)"
     ],
     "language": "python",
     "metadata": {},
     "outputs": [
      {
       "output_type": "stream",
       "stream": "stdout",
       "text": [
        "imdb id after modifying 0113497\n",
        "                critic   fresh              publication                                              quote review_date     imdb   rtid    title\n",
        "0      Owen Gleiberman  rotten     Entertainment Weekly                                                     2011-09-07  0113497  12436  Jumanji\n",
        "1        Leonard Klady    none                  Variety                                                     2009-01-02  0113497  12436  Jumanji\n",
        "2         Geoff Andrew    none                 Time Out                                                     2006-06-24  0113497  12436  Jumanji\n",
        "3         Janet Maslin    none           New York Times                                                     2003-05-20  0113497  12436  Jumanji\n",
        "4          Peter Stack    none  San Francisco Chronicle                                                     2002-06-18  0113497  12436  Jumanji\n",
        "5                         none           Globe and Mail                                                     2002-04-12  0113497  12436  Jumanji\n",
        "6         Jack Mathews    none        Los Angeles Times                                                     2001-02-13  0113497  12436  Jumanji\n",
        "7                         none          Washington Post                                                     2000-01-01  0113497  12436  Jumanji\n",
        "8   James Berardinelli  rotten                ReelViews                                                     2000-01-01  0113497  12436  Jumanji\n",
        "9          Joe Baltake    none           Sacramento Bee                                                     2000-01-01  0113497  12436  Jumanji\n",
        "10         Roger Ebert  rotten        Chicago Sun-Times  A gloomy special-effects extravaganza filled w...  2000-01-01  0113497  12436  Jumanji\n",
        "11         Susan Stark   fresh             Detroit News                                                     2000-01-01  0113497  12436  Jumanji\n",
        "12                       fresh                USA Today  A calculated but very entertaining special eff...  2000-01-01  0113497  12436  Jumanji\n",
        "13                      rotten     Entertainment Weekly                                                     1995-12-15  0113497  12436  Jumanji"
       ]
      },
      {
       "output_type": "stream",
       "stream": "stdout",
       "text": [
        "\n"
       ]
      }
     ],
     "prompt_number": 32
    },
    {
     "cell_type": "markdown",
     "metadata": {},
     "source": [
      "#### P1.2\n",
      "\n",
      "Use the function you wrote to retrieve reviews for the first 3,000 movies in the movies dataframe.\n",
      "\n",
      "##### Hints\n",
      "* Rotten Tomatoes limits you to **10,000 API requests a day**. Be careful about this limit! Test your code on smaller inputs before scaling. You are responsible if you hit the limit the day the assignment is due :)\n",
      "* This will take a while to download. If you don't want to re-run this function every time you restart the notebook, you can save and re-load this data as a CSV file. However, please don't submit this file"
     ]
    },
    {
     "cell_type": "code",
     "collapsed": false,
     "input": [
      "\"\"\"\n",
      "Function\n",
      "--------\n",
      "build_table\n",
      "\n",
      "Parameters\n",
      "----------\n",
      "movies : DataFrame\n",
      "  The movies data above\n",
      "rows : int\n",
      "  The number of rows to extract reviews for\n",
      "  \n",
      "Returns\n",
      "--------\n",
      "A dataframe\n",
      "  The data obtained by repeatedly calling `fetch_reviews` on the first `rows`\n",
      "  of `movies`, discarding the `None`s,\n",
      "  and concatenating the results into a single DataFrame\n",
      "\"\"\"\n",
      "#your code here\n",
      "def build_table(movies,rows):\n",
      "    results=pd.DataFrame()\n",
      "    for i in xrange(rows):\n",
      "        print 'i is :', i\n",
      "        result=fetch_reviews(movies,i)\n",
      "        results=pd.concat([results,result], axis=0)\n",
      "    return results\n",
      "build_table(movies,2)"
     ],
     "language": "python",
     "metadata": {},
     "outputs": [
      {
       "output_type": "stream",
       "stream": "stdout",
       "text": [
        "i is : 0\n",
        "imdb id after modifying 0114709\n",
        "i is :"
       ]
      },
      {
       "output_type": "stream",
       "stream": "stdout",
       "text": [
        " 1\n",
        "imdb id after modifying 0113497\n"
       ]
      },
      {
       "html": [
        "<div style=\"max-height:1000px;max-width:1500px;overflow:auto;\">\n",
        "<table border=\"1\" class=\"dataframe\">\n",
        "  <thead>\n",
        "    <tr style=\"text-align: right;\">\n",
        "      <th></th>\n",
        "      <th>critic</th>\n",
        "      <th>fresh</th>\n",
        "      <th>imdb</th>\n",
        "      <th>publication</th>\n",
        "      <th>quote</th>\n",
        "      <th>review_date</th>\n",
        "      <th>rtid</th>\n",
        "      <th>title</th>\n",
        "    </tr>\n",
        "  </thead>\n",
        "  <tbody>\n",
        "    <tr>\n",
        "      <th>0 </th>\n",
        "      <td>    Owen Gleiberman</td>\n",
        "      <td>  fresh</td>\n",
        "      <td> 0114709</td>\n",
        "      <td>    Entertainment Weekly</td>\n",
        "      <td>                                                  </td>\n",
        "      <td> 2011-09-07</td>\n",
        "      <td>  9559</td>\n",
        "      <td> Toy story</td>\n",
        "    </tr>\n",
        "    <tr>\n",
        "      <th>1 </th>\n",
        "      <td>        Derek Adams</td>\n",
        "      <td>  fresh</td>\n",
        "      <td> 0114709</td>\n",
        "      <td>                Time Out</td>\n",
        "      <td> So ingenious in concept, design and execution ...</td>\n",
        "      <td> 2009-10-04</td>\n",
        "      <td>  9559</td>\n",
        "      <td> Toy story</td>\n",
        "    </tr>\n",
        "    <tr>\n",
        "      <th>2 </th>\n",
        "      <td>    Richard Corliss</td>\n",
        "      <td>  fresh</td>\n",
        "      <td> 0114709</td>\n",
        "      <td>           TIME Magazine</td>\n",
        "      <td>                 The year's most inventive comedy.</td>\n",
        "      <td> 2008-08-31</td>\n",
        "      <td>  9559</td>\n",
        "      <td> Toy story</td>\n",
        "    </tr>\n",
        "    <tr>\n",
        "      <th>3 </th>\n",
        "      <td>        David Ansen</td>\n",
        "      <td>  fresh</td>\n",
        "      <td> 0114709</td>\n",
        "      <td>                Newsweek</td>\n",
        "      <td> A winning animated feature that has something ...</td>\n",
        "      <td> 2008-08-18</td>\n",
        "      <td>  9559</td>\n",
        "      <td> Toy story</td>\n",
        "    </tr>\n",
        "    <tr>\n",
        "      <th>4 </th>\n",
        "      <td>      Leonard Klady</td>\n",
        "      <td>  fresh</td>\n",
        "      <td> 0114709</td>\n",
        "      <td>                 Variety</td>\n",
        "      <td> The film sports a provocative and appealing st...</td>\n",
        "      <td> 2008-06-09</td>\n",
        "      <td>  9559</td>\n",
        "      <td> Toy story</td>\n",
        "    </tr>\n",
        "    <tr>\n",
        "      <th>5 </th>\n",
        "      <td> Jonathan Rosenbaum</td>\n",
        "      <td>  fresh</td>\n",
        "      <td> 0114709</td>\n",
        "      <td>          Chicago Reader</td>\n",
        "      <td> An entertaining computer-generated, hyperreali...</td>\n",
        "      <td> 2008-03-10</td>\n",
        "      <td>  9559</td>\n",
        "      <td> Toy story</td>\n",
        "    </tr>\n",
        "    <tr>\n",
        "      <th>6 </th>\n",
        "      <td>      Michael Booth</td>\n",
        "      <td>  fresh</td>\n",
        "      <td> 0114709</td>\n",
        "      <td>             Denver Post</td>\n",
        "      <td> As Lion King did before it, Toy Story revived ...</td>\n",
        "      <td> 2007-05-03</td>\n",
        "      <td>  9559</td>\n",
        "      <td> Toy story</td>\n",
        "    </tr>\n",
        "    <tr>\n",
        "      <th>7 </th>\n",
        "      <td>       Geoff Andrew</td>\n",
        "      <td>  fresh</td>\n",
        "      <td> 0114709</td>\n",
        "      <td>                Time Out</td>\n",
        "      <td> The film will probably be more fully appreciat...</td>\n",
        "      <td> 2006-06-24</td>\n",
        "      <td>  9559</td>\n",
        "      <td> Toy story</td>\n",
        "    </tr>\n",
        "    <tr>\n",
        "      <th>8 </th>\n",
        "      <td>       Janet Maslin</td>\n",
        "      <td>  fresh</td>\n",
        "      <td> 0114709</td>\n",
        "      <td>          New York Times</td>\n",
        "      <td> Children will enjoy a new take on the irresist...</td>\n",
        "      <td> 2003-05-20</td>\n",
        "      <td>  9559</td>\n",
        "      <td> Toy story</td>\n",
        "    </tr>\n",
        "    <tr>\n",
        "      <th>9 </th>\n",
        "      <td>      Kenneth Turan</td>\n",
        "      <td>  fresh</td>\n",
        "      <td> 0114709</td>\n",
        "      <td>       Los Angeles Times</td>\n",
        "      <td> Although its computer-generated imagery is imp...</td>\n",
        "      <td> 2001-02-13</td>\n",
        "      <td>  9559</td>\n",
        "      <td> Toy story</td>\n",
        "    </tr>\n",
        "    <tr>\n",
        "      <th>10</th>\n",
        "      <td>   Susan Wloszczyna</td>\n",
        "      <td>  fresh</td>\n",
        "      <td> 0114709</td>\n",
        "      <td>               USA Today</td>\n",
        "      <td> How perfect that two of the most popular funny...</td>\n",
        "      <td> 2000-01-01</td>\n",
        "      <td>  9559</td>\n",
        "      <td> Toy story</td>\n",
        "    </tr>\n",
        "    <tr>\n",
        "      <th>11</th>\n",
        "      <td>        Roger Ebert</td>\n",
        "      <td>  fresh</td>\n",
        "      <td> 0114709</td>\n",
        "      <td>       Chicago Sun-Times</td>\n",
        "      <td> The result is a visionary roller-coaster ride ...</td>\n",
        "      <td> 2000-01-01</td>\n",
        "      <td>  9559</td>\n",
        "      <td> Toy story</td>\n",
        "    </tr>\n",
        "    <tr>\n",
        "      <th>12</th>\n",
        "      <td>         John Hartl</td>\n",
        "      <td>  fresh</td>\n",
        "      <td> 0114709</td>\n",
        "      <td>                Film.com</td>\n",
        "      <td> Disney's witty, wondrously imaginative, all-co...</td>\n",
        "      <td> 2000-01-01</td>\n",
        "      <td>  9559</td>\n",
        "      <td> Toy story</td>\n",
        "    </tr>\n",
        "    <tr>\n",
        "      <th>13</th>\n",
        "      <td>        Susan Stark</td>\n",
        "      <td>  fresh</td>\n",
        "      <td> 0114709</td>\n",
        "      <td>            Detroit News</td>\n",
        "      <td> Disney's first computer-made animated feature ...</td>\n",
        "      <td> 2000-01-01</td>\n",
        "      <td>  9559</td>\n",
        "      <td> Toy story</td>\n",
        "    </tr>\n",
        "    <tr>\n",
        "      <th>14</th>\n",
        "      <td>        Peter Stack</td>\n",
        "      <td>  fresh</td>\n",
        "      <td> 0114709</td>\n",
        "      <td> San Francisco Chronicle</td>\n",
        "      <td> The script, by Lasseter, Pete Docter, Andrew S...</td>\n",
        "      <td> 2000-01-01</td>\n",
        "      <td>  9559</td>\n",
        "      <td> Toy story</td>\n",
        "    </tr>\n",
        "    <tr>\n",
        "      <th>15</th>\n",
        "      <td> James Berardinelli</td>\n",
        "      <td>  fresh</td>\n",
        "      <td> 0114709</td>\n",
        "      <td>               ReelViews</td>\n",
        "      <td> The one big negative about Toy Story involves ...</td>\n",
        "      <td> 2000-01-01</td>\n",
        "      <td>  9559</td>\n",
        "      <td> Toy story</td>\n",
        "    </tr>\n",
        "    <tr>\n",
        "      <th>16</th>\n",
        "      <td>         Sean Means</td>\n",
        "      <td>  fresh</td>\n",
        "      <td> 0114709</td>\n",
        "      <td>                Film.com</td>\n",
        "      <td>        Technically, Toy Story is nearly flawless.</td>\n",
        "      <td> 2000-01-01</td>\n",
        "      <td>  9559</td>\n",
        "      <td> Toy story</td>\n",
        "    </tr>\n",
        "    <tr>\n",
        "      <th>17</th>\n",
        "      <td>       Rita Kempley</td>\n",
        "      <td>  fresh</td>\n",
        "      <td> 0114709</td>\n",
        "      <td>         Washington Post</td>\n",
        "      <td> It's a nice change of pace to see the studio d...</td>\n",
        "      <td> 2000-01-01</td>\n",
        "      <td>  9559</td>\n",
        "      <td> Toy story</td>\n",
        "    </tr>\n",
        "    <tr>\n",
        "      <th>18</th>\n",
        "      <td>                   </td>\n",
        "      <td>  fresh</td>\n",
        "      <td> 0114709</td>\n",
        "      <td>    Entertainment Weekly</td>\n",
        "      <td> I can hardly imagine having more fun at the mo...</td>\n",
        "      <td> 1995-11-22</td>\n",
        "      <td>  9559</td>\n",
        "      <td> Toy story</td>\n",
        "    </tr>\n",
        "    <tr>\n",
        "      <th>19</th>\n",
        "      <td>        Roger Moore</td>\n",
        "      <td>  fresh</td>\n",
        "      <td> 0114709</td>\n",
        "      <td>        Orlando Sentinel</td>\n",
        "      <td> The great voice acting, the visual puns, all a...</td>\n",
        "      <td> 1995-11-22</td>\n",
        "      <td>  9559</td>\n",
        "      <td> Toy story</td>\n",
        "    </tr>\n",
        "    <tr>\n",
        "      <th>0 </th>\n",
        "      <td>    Owen Gleiberman</td>\n",
        "      <td> rotten</td>\n",
        "      <td> 0113497</td>\n",
        "      <td>    Entertainment Weekly</td>\n",
        "      <td>                                                  </td>\n",
        "      <td> 2011-09-07</td>\n",
        "      <td> 12436</td>\n",
        "      <td>   Jumanji</td>\n",
        "    </tr>\n",
        "    <tr>\n",
        "      <th>1 </th>\n",
        "      <td>      Leonard Klady</td>\n",
        "      <td>   none</td>\n",
        "      <td> 0113497</td>\n",
        "      <td>                 Variety</td>\n",
        "      <td>                                                  </td>\n",
        "      <td> 2009-01-02</td>\n",
        "      <td> 12436</td>\n",
        "      <td>   Jumanji</td>\n",
        "    </tr>\n",
        "    <tr>\n",
        "      <th>2 </th>\n",
        "      <td>       Geoff Andrew</td>\n",
        "      <td>   none</td>\n",
        "      <td> 0113497</td>\n",
        "      <td>                Time Out</td>\n",
        "      <td>                                                  </td>\n",
        "      <td> 2006-06-24</td>\n",
        "      <td> 12436</td>\n",
        "      <td>   Jumanji</td>\n",
        "    </tr>\n",
        "    <tr>\n",
        "      <th>3 </th>\n",
        "      <td>       Janet Maslin</td>\n",
        "      <td>   none</td>\n",
        "      <td> 0113497</td>\n",
        "      <td>          New York Times</td>\n",
        "      <td>                                                  </td>\n",
        "      <td> 2003-05-20</td>\n",
        "      <td> 12436</td>\n",
        "      <td>   Jumanji</td>\n",
        "    </tr>\n",
        "    <tr>\n",
        "      <th>4 </th>\n",
        "      <td>        Peter Stack</td>\n",
        "      <td>   none</td>\n",
        "      <td> 0113497</td>\n",
        "      <td> San Francisco Chronicle</td>\n",
        "      <td>                                                  </td>\n",
        "      <td> 2002-06-18</td>\n",
        "      <td> 12436</td>\n",
        "      <td>   Jumanji</td>\n",
        "    </tr>\n",
        "    <tr>\n",
        "      <th>5 </th>\n",
        "      <td>                   </td>\n",
        "      <td>   none</td>\n",
        "      <td> 0113497</td>\n",
        "      <td>          Globe and Mail</td>\n",
        "      <td>                                                  </td>\n",
        "      <td> 2002-04-12</td>\n",
        "      <td> 12436</td>\n",
        "      <td>   Jumanji</td>\n",
        "    </tr>\n",
        "    <tr>\n",
        "      <th>6 </th>\n",
        "      <td>       Jack Mathews</td>\n",
        "      <td>   none</td>\n",
        "      <td> 0113497</td>\n",
        "      <td>       Los Angeles Times</td>\n",
        "      <td>                                                  </td>\n",
        "      <td> 2001-02-13</td>\n",
        "      <td> 12436</td>\n",
        "      <td>   Jumanji</td>\n",
        "    </tr>\n",
        "    <tr>\n",
        "      <th>7 </th>\n",
        "      <td>                   </td>\n",
        "      <td>   none</td>\n",
        "      <td> 0113497</td>\n",
        "      <td>         Washington Post</td>\n",
        "      <td>                                                  </td>\n",
        "      <td> 2000-01-01</td>\n",
        "      <td> 12436</td>\n",
        "      <td>   Jumanji</td>\n",
        "    </tr>\n",
        "    <tr>\n",
        "      <th>8 </th>\n",
        "      <td> James Berardinelli</td>\n",
        "      <td> rotten</td>\n",
        "      <td> 0113497</td>\n",
        "      <td>               ReelViews</td>\n",
        "      <td>                                                  </td>\n",
        "      <td> 2000-01-01</td>\n",
        "      <td> 12436</td>\n",
        "      <td>   Jumanji</td>\n",
        "    </tr>\n",
        "    <tr>\n",
        "      <th>9 </th>\n",
        "      <td>        Joe Baltake</td>\n",
        "      <td>   none</td>\n",
        "      <td> 0113497</td>\n",
        "      <td>          Sacramento Bee</td>\n",
        "      <td>                                                  </td>\n",
        "      <td> 2000-01-01</td>\n",
        "      <td> 12436</td>\n",
        "      <td>   Jumanji</td>\n",
        "    </tr>\n",
        "    <tr>\n",
        "      <th>10</th>\n",
        "      <td>        Roger Ebert</td>\n",
        "      <td> rotten</td>\n",
        "      <td> 0113497</td>\n",
        "      <td>       Chicago Sun-Times</td>\n",
        "      <td> A gloomy special-effects extravaganza filled w...</td>\n",
        "      <td> 2000-01-01</td>\n",
        "      <td> 12436</td>\n",
        "      <td>   Jumanji</td>\n",
        "    </tr>\n",
        "    <tr>\n",
        "      <th>11</th>\n",
        "      <td>        Susan Stark</td>\n",
        "      <td>  fresh</td>\n",
        "      <td> 0113497</td>\n",
        "      <td>            Detroit News</td>\n",
        "      <td>                                                  </td>\n",
        "      <td> 2000-01-01</td>\n",
        "      <td> 12436</td>\n",
        "      <td>   Jumanji</td>\n",
        "    </tr>\n",
        "    <tr>\n",
        "      <th>12</th>\n",
        "      <td>                   </td>\n",
        "      <td>  fresh</td>\n",
        "      <td> 0113497</td>\n",
        "      <td>               USA Today</td>\n",
        "      <td> A calculated but very entertaining special eff...</td>\n",
        "      <td> 2000-01-01</td>\n",
        "      <td> 12436</td>\n",
        "      <td>   Jumanji</td>\n",
        "    </tr>\n",
        "    <tr>\n",
        "      <th>13</th>\n",
        "      <td>                   </td>\n",
        "      <td> rotten</td>\n",
        "      <td> 0113497</td>\n",
        "      <td>    Entertainment Weekly</td>\n",
        "      <td>                                                  </td>\n",
        "      <td> 1995-12-15</td>\n",
        "      <td> 12436</td>\n",
        "      <td>   Jumanji</td>\n",
        "    </tr>\n",
        "  </tbody>\n",
        "</table>\n",
        "</div>"
       ],
       "metadata": {},
       "output_type": "pyout",
       "prompt_number": 33,
       "text": [
        "                critic   fresh     imdb              publication                                              quote review_date   rtid      title\n",
        "0      Owen Gleiberman   fresh  0114709     Entertainment Weekly                                                     2011-09-07   9559  Toy story\n",
        "1          Derek Adams   fresh  0114709                 Time Out  So ingenious in concept, design and execution ...  2009-10-04   9559  Toy story\n",
        "2      Richard Corliss   fresh  0114709            TIME Magazine                  The year's most inventive comedy.  2008-08-31   9559  Toy story\n",
        "3          David Ansen   fresh  0114709                 Newsweek  A winning animated feature that has something ...  2008-08-18   9559  Toy story\n",
        "4        Leonard Klady   fresh  0114709                  Variety  The film sports a provocative and appealing st...  2008-06-09   9559  Toy story\n",
        "5   Jonathan Rosenbaum   fresh  0114709           Chicago Reader  An entertaining computer-generated, hyperreali...  2008-03-10   9559  Toy story\n",
        "6        Michael Booth   fresh  0114709              Denver Post  As Lion King did before it, Toy Story revived ...  2007-05-03   9559  Toy story\n",
        "7         Geoff Andrew   fresh  0114709                 Time Out  The film will probably be more fully appreciat...  2006-06-24   9559  Toy story\n",
        "8         Janet Maslin   fresh  0114709           New York Times  Children will enjoy a new take on the irresist...  2003-05-20   9559  Toy story\n",
        "9        Kenneth Turan   fresh  0114709        Los Angeles Times  Although its computer-generated imagery is imp...  2001-02-13   9559  Toy story\n",
        "10    Susan Wloszczyna   fresh  0114709                USA Today  How perfect that two of the most popular funny...  2000-01-01   9559  Toy story\n",
        "11         Roger Ebert   fresh  0114709        Chicago Sun-Times  The result is a visionary roller-coaster ride ...  2000-01-01   9559  Toy story\n",
        "12          John Hartl   fresh  0114709                 Film.com  Disney's witty, wondrously imaginative, all-co...  2000-01-01   9559  Toy story\n",
        "13         Susan Stark   fresh  0114709             Detroit News  Disney's first computer-made animated feature ...  2000-01-01   9559  Toy story\n",
        "14         Peter Stack   fresh  0114709  San Francisco Chronicle  The script, by Lasseter, Pete Docter, Andrew S...  2000-01-01   9559  Toy story\n",
        "15  James Berardinelli   fresh  0114709                ReelViews  The one big negative about Toy Story involves ...  2000-01-01   9559  Toy story\n",
        "16          Sean Means   fresh  0114709                 Film.com         Technically, Toy Story is nearly flawless.  2000-01-01   9559  Toy story\n",
        "17        Rita Kempley   fresh  0114709          Washington Post  It's a nice change of pace to see the studio d...  2000-01-01   9559  Toy story\n",
        "18                       fresh  0114709     Entertainment Weekly  I can hardly imagine having more fun at the mo...  1995-11-22   9559  Toy story\n",
        "19         Roger Moore   fresh  0114709         Orlando Sentinel  The great voice acting, the visual puns, all a...  1995-11-22   9559  Toy story\n",
        "0      Owen Gleiberman  rotten  0113497     Entertainment Weekly                                                     2011-09-07  12436    Jumanji\n",
        "1        Leonard Klady    none  0113497                  Variety                                                     2009-01-02  12436    Jumanji\n",
        "2         Geoff Andrew    none  0113497                 Time Out                                                     2006-06-24  12436    Jumanji\n",
        "3         Janet Maslin    none  0113497           New York Times                                                     2003-05-20  12436    Jumanji\n",
        "4          Peter Stack    none  0113497  San Francisco Chronicle                                                     2002-06-18  12436    Jumanji\n",
        "5                         none  0113497           Globe and Mail                                                     2002-04-12  12436    Jumanji\n",
        "6         Jack Mathews    none  0113497        Los Angeles Times                                                     2001-02-13  12436    Jumanji\n",
        "7                         none  0113497          Washington Post                                                     2000-01-01  12436    Jumanji\n",
        "8   James Berardinelli  rotten  0113497                ReelViews                                                     2000-01-01  12436    Jumanji\n",
        "9          Joe Baltake    none  0113497           Sacramento Bee                                                     2000-01-01  12436    Jumanji\n",
        "10         Roger Ebert  rotten  0113497        Chicago Sun-Times  A gloomy special-effects extravaganza filled w...  2000-01-01  12436    Jumanji\n",
        "11         Susan Stark   fresh  0113497             Detroit News                                                     2000-01-01  12436    Jumanji\n",
        "12                       fresh  0113497                USA Today  A calculated but very entertaining special eff...  2000-01-01  12436    Jumanji\n",
        "13                      rotten  0113497     Entertainment Weekly                                                     1995-12-15  12436    Jumanji"
       ]
      }
     ],
     "prompt_number": 33
    },
    {
     "cell_type": "code",
     "collapsed": false,
     "input": [
      "#you can toggle which lines are commented, if you\n",
      "#want to re-load your results to avoid repeatedly calling this function\n",
      "\n",
      "#critics = build_table(movies, 3000)\n",
      "#critics.to_csv('critics.csv', index=False)\n",
      "critics = pd.read_csv('critics.csv')\n",
      "\n",
      "\n",
      "#for this assignment, let's drop rows with missing data\n",
      "critics = critics[~critics.quote.isnull()]\n",
      "critics = critics[critics.fresh != 'none']\n",
      "critics = critics[critics.quote.str.len() > 0]"
     ],
     "language": "python",
     "metadata": {},
     "outputs": [],
     "prompt_number": 34
    },
    {
     "cell_type": "markdown",
     "metadata": {},
     "source": [
      "A quick sanity check that everything looks ok at this point"
     ]
    },
    {
     "cell_type": "code",
     "collapsed": false,
     "input": [
      "assert set(critics.columns) == set('critic fresh imdb publication '\n",
      "                                   'quote review_date rtid title'.split())\n",
      "assert len(critics) > 10000\n",
      "\n",
      "#print len(critics)"
     ],
     "language": "python",
     "metadata": {},
     "outputs": [],
     "prompt_number": 35
    },
    {
     "cell_type": "markdown",
     "metadata": {},
     "source": [
      "## Part 2: Explore\n",
      "\n",
      "Before delving into analysis, get a sense of what these data look like. Answer the following questions. Include your code!"
     ]
    },
    {
     "cell_type": "markdown",
     "metadata": {},
     "source": [
      "**2.1** How many reviews, critics, and movies are in this dataset?\n"
     ]
    },
    {
     "cell_type": "code",
     "collapsed": false,
     "input": [
      "#your code here\n",
      "num_movies=critics['title'].nunique()\n",
      "\n",
      "num_movies1=0\n",
      "for name,group in critics.groupby('title'):\n",
      "    num_movies1+=1\n",
      "num_reviews=critics.count(axis=0).max()\n",
      "num_critics=critics['critic'].nunique()\n",
      "print 'num_movies1 is: ', num_movies1\n",
      "print 'num_movies is: ', num_movies # I am just comparing the two methods to see if they are the same\n",
      "print 'num_reviews is: ', num_reviews\n",
      "print 'num_critics is: ', num_critics\n",
      "#print critics.tail(7)"
     ],
     "language": "python",
     "metadata": {},
     "outputs": [
      {
       "output_type": "stream",
       "stream": "stdout",
       "text": [
        "num_movies1 is:  1929\n",
        "num_movies is:  1929\n",
        "num_reviews is:  15584\n",
        "num_critics is:  621\n"
       ]
      }
     ],
     "prompt_number": 36
    },
    {
     "cell_type": "markdown",
     "metadata": {},
     "source": [
      "**2.2** What does the distribution of number of reviews per reviewer look like? Make a histogram"
     ]
    },
    {
     "cell_type": "code",
     "collapsed": false,
     "input": [
      "#Your code here\n",
      "newpd=pd.DataFrame(critics.groupby('critic').size()) # critics as the new index, and num of reviews is the column\n",
      "newpd.rename(columns={newpd.columns[0]:'num_reviews'}, inplace=True)\n",
      "newpd.head(20)\n",
      "newpd.hist(column='num_reviews',bins=80)"
     ],
     "language": "python",
     "metadata": {},
     "outputs": [
      {
       "metadata": {},
       "output_type": "pyout",
       "prompt_number": 37,
       "text": [
        "array([[<matplotlib.axes.AxesSubplot object at 0x1083e6c90>]], dtype=object)"
       ]
      },
      {
       "metadata": {},
       "output_type": "display_data",
       "png": "[encoded data removed]",
       "text": [
        "<matplotlib.figure.Figure at 0x109d90f90>"
       ]
      }
     ],
     "prompt_number": 37
    },
    {
     "cell_type": "markdown",
     "metadata": {},
     "source": [
      "**2.3** List the 5 critics with the most reviews, along with the publication they write for"
     ]
    },
    {
     "cell_type": "code",
     "collapsed": false,
     "input": [
      "#Your code here\n",
      "temp=critics.copy()\n",
      "newpd=pd.DataFrame(temp.groupby('critic').size()) # critics as the new index, and num of reviews is the column\n",
      "newpd.rename(columns={newpd.columns[0]:'num_reviews'}, inplace=True)\n",
      "# newpd is the pd with only with num_reviews, and the index is critic\n",
      "newpd=newpd.sort('num_reviews',ascending=0)\n",
      "b=list(newpd.index)\n",
      "for item in b[0:5]:\n",
      "    print item, temp[temp.critic==item].publication.drop_duplicates().values\n",
      "\n",
      "                               "
     ],
     "language": "python",
     "metadata": {},
     "outputs": [
      {
       "output_type": "stream",
       "stream": "stdout",
       "text": [
        "Roger Ebert ['Chicago Sun-Times' 'At the Movies']\n",
        "James Berardinelli ['ReelViews']\n",
        "Janet Maslin ['New York Times']\n",
        "Variety Staff ['Variety']\n",
        "Jonathan Rosenbaum ['Chicago Reader']\n"
       ]
      }
     ],
     "prompt_number": 38
    },
    {
     "cell_type": "markdown",
     "metadata": {},
     "source": [
      "**2.4** Of the critics with > 100 reviews, plot the distribution of average \"freshness\" rating per critic"
     ]
    },
    {
     "cell_type": "code",
     "collapsed": false,
     "input": [
      "#Your code here\n",
      "temp2=critics.copy()\n",
      "temp2.fresh=temp2.fresh.apply(lambda x: 1 if x=='fresh' else 0)\n",
      "#print temp2.head()\n",
      "temp2=pd.DataFrame(temp2.groupby('critic').fresh.mean())\n",
      "freshnesspd=pd.DataFrame(temp.groupby('critic').size())\n",
      "freshnesspd=freshnesspd.join(temp2)\n",
      "\n",
      "freshnesspd.rename(columns={freshnesspd.columns[0]:'num_reviews'}, inplace=True)\n",
      "freshnesspd=freshnesspd[freshnesspd['num_reviews']>100]\n",
      "print freshnesspd.head()\n",
      "freshnesspd.hist(column='fresh',bins=20)\n",
      "\n",
      "\n",
      "       "
     ],
     "language": "python",
     "metadata": {},
     "outputs": [
      {
       "output_type": "stream",
       "stream": "stdout",
       "text": [
        "                 num_reviews     fresh\n",
        "critic                                \n",
        "Bosley Crowther          139  0.705036\n",
        "Dave Kehr                340  0.594118\n",
        "Derek Adams              151  0.615894\n",
        "Desson Thomson           391  0.588235\n",
        "Edward Guthmann          119  0.647059\n"
       ]
      },
      {
       "metadata": {},
       "output_type": "pyout",
       "prompt_number": 39,
       "text": [
        "array([[<matplotlib.axes.AxesSubplot object at 0x10887efd0>]], dtype=object)"
       ]
      },
      {
       "metadata": {},
       "output_type": "display_data",
       "png": "[encoded data removed]",
       "text": [
        "<matplotlib.figure.Figure at 0x10887ec50>"
       ]
      }
     ],
     "prompt_number": 39
    },
    {
     "cell_type": "markdown",
     "metadata": {},
     "source": [
      "**2.5**\n",
      "Using the original `movies` dataframe, plot the rotten tomatoes Top Critics Rating as a function of year. Overplot the average for each year, ignoring the score=0 examples (some of these are missing data). Comment on the result -- is there a trend? What do you think it means?"
     ]
    },
    {
     "cell_type": "code",
     "collapsed": false,
     "input": [
      "#Your code here\n",
      "movies2=movies.copy()\n",
      "movies2=movies2.dropna()\n",
      "\n",
      "movies2.rtTopCriticsRating=movies2.rtTopCriticsRating.apply(lambda x: float(x) if x!='0' else np.nan)\n",
      "movies2=movies2.dropna()\n",
      "movie_groupby=movies2.groupby('year')\n",
      "toppd=pd.DataFrame(movie_groupby['rtTopCriticsRating'].agg({'ratingsaverage': np.mean}))\n",
      "\n",
      "\n",
      "plt.plot(toppd.index,toppd.ratingsaverage)\n",
      "plt.scatter(movies2.year,movies2.rtTopCriticsRating,s=2)\n",
      "\n",
      "    "
     ],
     "language": "python",
     "metadata": {},
     "outputs": [
      {
       "metadata": {},
       "output_type": "pyout",
       "prompt_number": 40,
       "text": [
        "<matplotlib.collections.PathCollection at 0x10780f090>"
       ]
      },
      {
       "metadata": {},
       "output_type": "display_data",
       "png": "[encoded data removed]",
       "text": [
        "<matplotlib.figure.Figure at 0x107813890>"
       ]
      }
     ],
     "prompt_number": 40
    },
    {
     "cell_type": "markdown",
     "metadata": {},
     "source": [
      "*Your Comment Here*\n",
      "\n",
      "First of all, there is a much more dense cluster of points recently, meaning recent movies receive a lot more reviews than the old movies. The average rating for movies is decreasing in general, but the fact that there is much fewer ratings for the old movies could also affect the result. When a new movie comes out, people have to watch it before they rate it. Since it is new, nobody knows whether if it is good or not. But for old movies, people usually watch them because their friends have recommended it. Therefore, for the old movies, there is a selection bias. "
     ]
    },
    {
     "cell_type": "markdown",
     "metadata": {},
     "source": [
      "## Part 3: Sentiment Analysis\n",
      "\n",
      "You will now use a [Naive Bayes classifier](https://en.wikipedia.org/wiki/Naive_Bayes_classifier) to build a prediction model for whether a review is fresh or rotten, depending on the text of the review. See Lecture 9 for a discussion of Naive Bayes.\n",
      "\n",
      "Most models work with numerical data, so we need to convert the textual collection of reviews to something numerical. A common strategy for text classification is to represent each review as a \"bag of words\" vector -- a long vector\n",
      "of numbers encoding how many times a particular word appears in a blurb.\n",
      "\n",
      "Scikit-learn has an object called a `CountVectorizer` that turns text into a bag of words. Here's a quick tutorial:"
     ]
    },
    {
     "cell_type": "code",
     "collapsed": false,
     "input": [
      "from sklearn.feature_extraction.text import CountVectorizer\n",
      "\n",
      "text = ['Hop on pop', 'Hop off pop', 'Hop Hop hop']\n",
      "print \"Original text is\\n\", '\\n'.join(text)\n",
      "\n",
      "vectorizer = CountVectorizer(min_df=0)\n",
      "\n",
      "# call `fit` to build the vocabulary\n",
      "vectorizer.fit(text)\n",
      "\n",
      "# call `transform` to convert text to a bag of words\n",
      "x = vectorizer.transform(text)\n",
      "\n",
      "# CountVectorizer uses a sparse array to save memory, but it's easier in this assignment to \n",
      "# convert back to a \"normal\" numpy array\n",
      "x = x.toarray()\n",
      "\n",
      "print\n",
      "print \"Transformed text vector is \\n\", x\n",
      "\n",
      "# `get_feature_names` tracks which word is associated with each column of the transformed x\n",
      "print\n",
      "print \"Words for each feature:\"\n",
      "print vectorizer.get_feature_names()\n",
      "#print type(vectorizer.get_feature_names())\n",
      "# Notice that the bag of words treatment doesn't preserve information about the *order* of words, \n",
      "# just their frequency"
     ],
     "language": "python",
     "metadata": {},
     "outputs": [
      {
       "output_type": "stream",
       "stream": "stdout",
       "text": [
        "Original text is\n",
        "Hop on pop\n",
        "Hop off pop\n",
        "Hop Hop hop\n",
        "\n",
        "Transformed text vector is \n",
        "[[1 0 1 1]\n",
        " [1 1 0 1]\n",
        " [3 0 0 0]]\n",
        "\n",
        "Words for each feature:\n",
        "[u'hop', u'off', u'on', u'pop']\n"
       ]
      }
     ],
     "prompt_number": 41
    },
    {
     "cell_type": "markdown",
     "metadata": {},
     "source": [
      "**3.1**\n",
      "\n",
      "Using the `critics` dataframe, compute a pair of numerical X, Y arrays where:\n",
      "    \n",
      " * X is a `(nreview, nwords)` array. Each row corresponds to a bag-of-words representation for a single review. This will be the *input* to your model.\n",
      " * Y is a `nreview`-element 1/0 array, encoding whether a review is Fresh (1) or Rotten (0). This is the desired *output* from your model.\n"
     ]
    },
    {
     "cell_type": "code",
     "collapsed": false,
     "input": [
      "critics.head()"
     ],
     "language": "python",
     "metadata": {},
     "outputs": [
      {
       "html": [
        "<div style=\"max-height:1000px;max-width:1500px;overflow:auto;\">\n",
        "<table border=\"1\" class=\"dataframe\">\n",
        "  <thead>\n",
        "    <tr style=\"text-align: right;\">\n",
        "      <th></th>\n",
        "      <th>critic</th>\n",
        "      <th>fresh</th>\n",
        "      <th>imdb</th>\n",
        "      <th>publication</th>\n",
        "      <th>quote</th>\n",
        "      <th>review_date</th>\n",
        "      <th>rtid</th>\n",
        "      <th>title</th>\n",
        "    </tr>\n",
        "  </thead>\n",
        "  <tbody>\n",
        "    <tr>\n",
        "      <th>1</th>\n",
        "      <td>        Derek Adams</td>\n",
        "      <td> fresh</td>\n",
        "      <td> 114709</td>\n",
        "      <td>       Time Out</td>\n",
        "      <td> So ingenious in concept, design and execution ...</td>\n",
        "      <td> 2009-10-04</td>\n",
        "      <td> 9559</td>\n",
        "      <td> Toy story</td>\n",
        "    </tr>\n",
        "    <tr>\n",
        "      <th>2</th>\n",
        "      <td>    Richard Corliss</td>\n",
        "      <td> fresh</td>\n",
        "      <td> 114709</td>\n",
        "      <td>  TIME Magazine</td>\n",
        "      <td>                 The year's most inventive comedy.</td>\n",
        "      <td> 2008-08-31</td>\n",
        "      <td> 9559</td>\n",
        "      <td> Toy story</td>\n",
        "    </tr>\n",
        "    <tr>\n",
        "      <th>3</th>\n",
        "      <td>        David Ansen</td>\n",
        "      <td> fresh</td>\n",
        "      <td> 114709</td>\n",
        "      <td>       Newsweek</td>\n",
        "      <td> A winning animated feature that has something ...</td>\n",
        "      <td> 2008-08-18</td>\n",
        "      <td> 9559</td>\n",
        "      <td> Toy story</td>\n",
        "    </tr>\n",
        "    <tr>\n",
        "      <th>4</th>\n",
        "      <td>      Leonard Klady</td>\n",
        "      <td> fresh</td>\n",
        "      <td> 114709</td>\n",
        "      <td>        Variety</td>\n",
        "      <td> The film sports a provocative and appealing st...</td>\n",
        "      <td> 2008-06-09</td>\n",
        "      <td> 9559</td>\n",
        "      <td> Toy story</td>\n",
        "    </tr>\n",
        "    <tr>\n",
        "      <th>5</th>\n",
        "      <td> Jonathan Rosenbaum</td>\n",
        "      <td> fresh</td>\n",
        "      <td> 114709</td>\n",
        "      <td> Chicago Reader</td>\n",
        "      <td> An entertaining computer-generated, hyperreali...</td>\n",
        "      <td> 2008-03-10</td>\n",
        "      <td> 9559</td>\n",
        "      <td> Toy story</td>\n",
        "    </tr>\n",
        "  </tbody>\n",
        "</table>\n",
        "</div>"
       ],
       "metadata": {},
       "output_type": "pyout",
       "prompt_number": 42,
       "text": [
        "               critic  fresh    imdb     publication                                              quote review_date  rtid      title\n",
        "1         Derek Adams  fresh  114709        Time Out  So ingenious in concept, design and execution ...  2009-10-04  9559  Toy story\n",
        "2     Richard Corliss  fresh  114709   TIME Magazine                  The year's most inventive comedy.  2008-08-31  9559  Toy story\n",
        "3         David Ansen  fresh  114709        Newsweek  A winning animated feature that has something ...  2008-08-18  9559  Toy story\n",
        "4       Leonard Klady  fresh  114709         Variety  The film sports a provocative and appealing st...  2008-06-09  9559  Toy story\n",
        "5  Jonathan Rosenbaum  fresh  114709  Chicago Reader  An entertaining computer-generated, hyperreali...  2008-03-10  9559  Toy story"
       ]
      }
     ],
     "prompt_number": 42
    },
    {
     "cell_type": "code",
     "collapsed": false,
     "input": [
      "#hint: Consult the scikit-learn documentation to\n",
      "#      learn about what these classes do do\n",
      "from sklearn.cross_validation import train_test_split\n",
      "from sklearn.naive_bayes import MultinomialNB\n",
      "\n",
      "\"\"\"\n",
      "Function\n",
      "--------\n",
      "make_xy\n",
      "\n",
      "Build a bag-of-words training set for the review data\n",
      "\n",
      "Parameters\n",
      "-----------\n",
      "critics : Pandas DataFrame\n",
      "    The review data from above\n",
      "    \n",
      "vectorizer : CountVectorizer object (optional)\n",
      "    A CountVectorizer object to use. If None,\n",
      "    then create and fit a new CountVectorizer.\n",
      "    Otherwise, re-fit the provided CountVectorizer\n",
      "    using the critics data\n",
      "    \n",
      "Returns\n",
      "-------\n",
      "X : numpy array (dims: nreview, nwords)\n",
      "    Bag-of-words representation for each review.\n",
      "Y : numpy array (dims: nreview)\n",
      "    1/0 array. 1 = fresh review, 0 = rotten review\n",
      "\n",
      "Examples\n",
      "--------\n",
      "X, Y = make_xy(critics)\n",
      "\"\"\"\n",
      "def make_xy(critics, vectorizer=None):\n",
      "    #Your code here\n",
      "    Y=[]\n",
      "    text=critics.quote\n",
      "    if vectorizer is None:\n",
      "        vectorizer = CountVectorizer(min_df=0)\n",
      "    vectorizer.fit(text)\n",
      "    X = vectorizer.transform(text)\n",
      "    for item in critics.fresh:\n",
      "        if item=='fresh':\n",
      "            Y.append(1)\n",
      "        else:\n",
      "            Y.append(0)\n",
      "    Y=np.array(Y)\n",
      "    return X ,Y\n",
      "\n",
      "X,Y=make_xy(critics)"
     ],
     "language": "python",
     "metadata": {},
     "outputs": [],
     "prompt_number": 47
    },
    {
     "cell_type": "code",
     "collapsed": false,
     "input": [
      "\n",
      "text=critics.quote\n",
      "vectorizer=CountVectorizer(min_df=0.00100)\n",
      "vectorizer.fit(text)\n",
      "X = vectorizer.transform(text)\n",
      "word_list=vectorizer.get_feature_names()\n",
      "print len(word_list)"
     ],
     "language": "python",
     "metadata": {},
     "outputs": [
      {
       "output_type": "stream",
       "stream": "stdout",
       "text": [
        "2115\n"
       ]
      }
     ],
     "prompt_number": 64
    },
    {
     "cell_type": "code",
     "collapsed": false,
     "input": [
      "#print \"Words for each feature:\"\n",
      "\"\"\"print vectorizer.get_feature_names()\"\"\""
     ],
     "language": "python",
     "metadata": {},
     "outputs": [
      {
       "metadata": {},
       "output_type": "pyout",
       "prompt_number": 45,
       "text": [
        "'print vectorizer.get_feature_names()'"
       ]
      }
     ],
     "prompt_number": 45
    },
    {
     "cell_type": "markdown",
     "metadata": {},
     "source": [
      "\n",
      "**3.2** Next, randomly split the data into two groups: a\n",
      "training set and a validation set. \n",
      "\n",
      "Use the training set to train a `MultinomialNB` classifier,\n",
      "and print the accuracy of this model on the validation set\n",
      "\n",
      "**Hint**\n",
      "You can use [`train_test_split`](http://scikit-learn.org/stable/modules/generated/sklearn.cross_validation.train_test_split.html) to split up the training data"
     ]
    },
    {
     "cell_type": "code",
     "collapsed": false,
     "input": [
      "#Your code here\n",
      "x_train, x_test, y_train, y_test = train_test_split(X, Y, test_size=0.5)\n",
      "clf = MultinomialNB()\n",
      "clf.fit(x_train, y_train)\n",
      "predicty=clf.predict(x_test)\n",
      "\n",
      "count=0\n",
      "for i in range(len(predicty)):\n",
      "    if predicty[i]==y_test[i]:\n",
      "        count+=1\n",
      "accuracy=float(count)/float(len(predicty))\n",
      "print accuracy\n",
      "\n",
      "# 0.768737166 for the preiction on the x_test set. "
     ],
     "language": "python",
     "metadata": {},
     "outputs": [
      {
       "output_type": "stream",
       "stream": "stdout",
       "text": [
        "0.759753593429\n"
       ]
      }
     ],
     "prompt_number": 48
    },
    {
     "cell_type": "code",
     "collapsed": false,
     "input": [],
     "language": "python",
     "metadata": {},
     "outputs": []
    },
    {
     "cell_type": "markdown",
     "metadata": {},
     "source": [
      "**3.3:**\n",
      "\n",
      "We say a model is **overfit** if it performs better on the training data than on the test data. Is this model overfit? If so, how much more accurate is the model on the training data compared to the test data?"
     ]
    },
    {
     "cell_type": "code",
     "collapsed": false,
     "input": [
      "# Your code here. Print the accuracy on the test and training dataset\n",
      "predicttrain=clf.predict(x_train)\n",
      "count=0\n",
      "for i in range(len(predicttrain)):\n",
      "    if predicttrain[i]==y_train[i]:\n",
      "        count+=1\n",
      "accuracy=float(count)/float(len(predicttrain))\n",
      "print accuracy\n",
      "\n",
      "#0.92556468 for the prediction on the training set. "
     ],
     "language": "python",
     "metadata": {},
     "outputs": [
      {
       "output_type": "stream",
       "stream": "stdout",
       "text": [
        "0.926976386037\n"
       ]
      }
     ],
     "prompt_number": 49
    },
    {
     "cell_type": "markdown",
     "metadata": {},
     "source": [
      "*Interpret these numbers in a few sentences here*\n",
      "\n",
      "*The accuracy for the prediction on the test set is about 76.87%, and 92.56% for the traning set. It makes sense that we have a higher accuracy for the prediction on the training set than that on the test set, because we built out model based on the training set. Obviously this model is overfit. It is about 15.7% more accurate on the traning set than on the test set"
     ]
    },
    {
     "cell_type": "markdown",
     "metadata": {},
     "source": [
      "**3.4: Model Calibration**\n",
      "\n",
      "Bayesian models like the Naive Bayes classifier have the nice property that they compute probabilities of a particular classification -- the `predict_proba` and `predict_log_proba` methods of `MultinomialNB` compute these probabilities. \n",
      "\n",
      "Being the respectable Bayesian that you are, you should always assess whether these probabilities are **calibrated** -- that is, whether a prediction made with a confidence of `x%` is correct approximately `x%` of the time. We care about calibration because it tells us whether we can trust the probabilities computed by a model. If we can trust model probabilities, we can make better decisions using them (for example, we can calculate how much we should bet or invest in a given prediction).\n",
      "\n",
      "Let's make a plot to assess model calibration. Schematically, we want something like this:\n",
      "\n",
      "<img src=\"http://i.imgur.com/ea5B6zr.png\" width=500px>\n",
      "\n",
      "In words, we want to:\n",
      "\n",
      "* Take a collection of examples, and compute the freshness probability for each using `clf.predict_proba`\n",
      "* Gather examples into bins of similar freshness probability (the diagram shows 5 groups -- you should use something closer to 20)\n",
      "* For each bin, count the number of examples in that bin, and compute the fraction of examples in the bin which are fresh\n",
      "* In the upper plot, graph the expected P(Fresh) (x axis) and observed freshness fraction (Y axis). Estimate the uncertainty in observed freshness fraction $F$ via the [equation](http://en.wikipedia.org/wiki/Binomial_proportion_confidence_interval) $\\sigma = \\sqrt{F (1-F) / N}$\n",
      "* Overplot the line y=x. This is the trend we would expect if the model is calibrated\n",
      "* In the lower plot, show the number of examples in each bin\n",
      "\n",
      "**Hints**\n",
      "\n",
      "The output of `clf.predict_proba(X)` is a `(N example, 2)` array. The first column gives the probability $P(Y=0)$ or  $P(Rotten)$, and the second gives $P(Y=1)$ or $P(Fresh)$.\n",
      "\n",
      "The above image is just a guideline -- feel free to explore other options!"
     ]
    },
    {
     "cell_type": "code",
     "collapsed": false,
     "input": [
      "\"\"\"\n",
      "Function\n",
      "--------\n",
      "calibration_plot\n",
      "\n",
      "Builds a plot like the one above, from a classifier and review data\n",
      "\n",
      "Inputs\n",
      "-------\n",
      "clf : Classifier object\n",
      "    A MultinomialNB classifier\n",
      "X : (Nexample, Nfeature) array\n",
      "    The bag-of-words data\n",
      "Y : (Nexample) integer array\n",
      "    1 if a review is Fresh\n",
      "\"\"\"    \n",
      "#your code here\n",
      "def calibration_plot(clf,X,Y):\n",
      "    predictprob=clf.predict_proba(X)\n",
      "    expectedp=pd.DataFrame(predictprob[:,1])\n",
      "    expectedp.rename(columns={expectedp.columns[0]:'predict_probability'}, inplace=True)\n",
      "    expectedp['observed_y']=Y\n",
      "    expectedp['predicted_y']=clf.predict(X)\n",
      "    expectedp['groupinterval']=expectedp.predict_probability.apply(lambda x: (x//0.05+1)*0.05)\n",
      "    plotpd = pd.DataFrame(expectedp.groupby('groupinterval').observed_y.mean(),columns=['fresh_p'])\n",
      "    plotpd['totalcount']=expectedp.groupby('groupinterval').observed_y.count()\n",
      "    plotpd['sigma'] = np.sqrt(plotpd.fresh_p.astype(float) *(1-plotpd.fresh_p.astype(float))/plotpd.totalcount.astype(float))\n",
      "    \n",
      "    plt.hist(predictprob[:,1],bins=20)\n",
      "    plt.show()\n",
      "    plt.plot(plotpd.index,plotpd.fresh_p)\n",
      "    plt.errorbar(plotpd.index, plotpd.fresh_p, yerr=plotpd.sigma,fmt='o',label='uncertainty' )\n",
      "    plt.plot(plotpd.index,plotpd.index)\n",
      "\n",
      "calibration_plot(clf,x_test,y_test)\n",
      "    "
     ],
     "language": "python",
     "metadata": {},
     "outputs": [
      {
       "metadata": {},
       "output_type": "display_data",
       "png": "[encoded data removed]",
       "text": [
        "<matplotlib.figure.Figure at 0x10791ff90>"
       ]
      },
      {
       "metadata": {},
       "output_type": "display_data",
       "png": "[encoded data removed]",
       "text": [
        "<matplotlib.figure.Figure at 0x1088a8790>"
       ]
      }
     ],
     "prompt_number": 50
    },
    {
     "cell_type": "code",
     "collapsed": false,
     "input": [],
     "language": "python",
     "metadata": {},
     "outputs": []
    },
    {
     "cell_type": "code",
     "collapsed": false,
     "input": [
      "xtest=x_test\n",
      "ytest=y_test\n",
      "calibration_plot(clf, xtest, ytest)"
     ],
     "language": "python",
     "metadata": {},
     "outputs": [
      {
       "metadata": {},
       "output_type": "display_data",
       "png": "[encoded data removed]",
       "text": [
        "<matplotlib.figure.Figure at 0x10590d790>"
       ]
      },
      {
       "metadata": {},
       "output_type": "display_data",
       "png": "[encoded data removed]",
       "text": [
        "<matplotlib.figure.Figure at 0x10783ef90>"
       ]
      }
     ],
     "prompt_number": 51
    },
    {
     "cell_type": "code",
     "collapsed": false,
     "input": [],
     "language": "python",
     "metadata": {},
     "outputs": []
    },
    {
     "cell_type": "code",
     "collapsed": false,
     "input": [],
     "language": "python",
     "metadata": {},
     "outputs": []
    },
    {
     "cell_type": "markdown",
     "metadata": {},
     "source": [
      "**3.5** We might say a model is *over-confident* if the freshness fraction is usually closer to 0.5 than expected (that is, there is more uncertainty than the model predicted). Likewise, a model is *under-confident* if the probabilities are usually further away from 0.5. Is this model generally over- or under-confident? "
     ]
    },
    {
     "cell_type": "markdown",
     "metadata": {},
     "source": [
      "*Your Answer Here*\n",
      "\n",
      "*The model is overconfident. We can see that the general trend of our observed vs expected line is flatter than the y=x line, meaning that it has a slope smaller than 1, therefore, it is overconfident. "
     ]
    },
    {
     "cell_type": "markdown",
     "metadata": {},
     "source": [
      "#### Cross Validation\n",
      "\n",
      "Our classifier has a few free parameters. The two most important are:\n",
      "\n",
      " 1. The `min_df` keyword in `CountVectorizer`, which will ignore words which appear in fewer than `min_df` fraction of reviews. Words that appear only once or twice can lead to overfitting, since words which occur only a few times might correlate very well with Fresh/Rotten reviews by chance in the training dataset.\n",
      " \n",
      " 2. The [`alpha` keyword](http://scikit-learn.org/stable/modules/naive_bayes.html#multinomial-naive-bayes) in the Bayesian classifier is a \"smoothing parameter\" -- increasing the value decreases the sensitivity to any single feature, and tends to pull prediction probabilities closer to 50%. \n",
      "\n",
      "As discussed in lecture and HW2, a common technique for choosing appropriate values for these parameters is **cross-validation**. Let's choose good parameters by maximizing the cross-validated log-likelihood.\n",
      "\n",
      "**3.6** Using `clf.predict_log_proba`, write a function that computes the log-likelihood of a dataset"
     ]
    },
    {
     "cell_type": "code",
     "collapsed": false,
     "input": [
      "\"\"\"\n",
      "Function\n",
      "--------\n",
      "log_likelihood\n",
      "\n",
      "Compute the log likelihood of a dataset according to a bayesian classifier. \n",
      "The Log Likelihood is defined by\n",
      "\n",
      "L = Sum_fresh(logP(fresh)) + Sum_rotten(logP(rotten))\n",
      "\n",
      "Where Sum_fresh indicates a sum over all fresh reviews, \n",
      "and Sum_rotten indicates a sum over rotten reviews\n",
      "    \n",
      "Parameters\n",
      "----------\n",
      "clf : Bayesian classifier\n",
      "x : (nexample, nfeature) array\n",
      "    The input data\n",
      "y : (nexample) integer array\n",
      "    Whether each review is Fresh\n",
      "\"\"\"\n",
      "#your code here\n",
      "def log_likelihood(clf,X,Y):\n",
      "    mask = Y==0\n",
      "    mask2 = Y==1\n",
      "    logprob = clf.predict_log_proba(X)\n",
      "    L = np.sum(logprob[mask][:,0]) \n",
      "    logprob = clf.predict_log_proba(X)\n",
      "    L = L+np.sum(logprob[mask2][:,1]) \n",
      "    return L\n"
     ],
     "language": "python",
     "metadata": {},
     "outputs": [],
     "prompt_number": 52
    },
    {
     "cell_type": "markdown",
     "metadata": {},
     "source": [
      "Here's a function to estimate the cross-validated value of a scoring function, given a classifier and data"
     ]
    },
    {
     "cell_type": "code",
     "collapsed": false,
     "input": [
      "from sklearn.cross_validation import KFold\n",
      "\n",
      "def cv_score(clf, x, y, score_func):\n",
      "    \"\"\"\n",
      "    Uses 5-fold cross validation to estimate a score of a classifier\n",
      "    \n",
      "    Inputs\n",
      "    ------\n",
      "    clf : Classifier object\n",
      "    x : Input feature vector\n",
      "    y : Input class labels\n",
      "    score_func : Function like log_likelihood, that takes (clf, x, y) as input,\n",
      "                 and returns a score\n",
      "                 \n",
      "    Returns\n",
      "    -------\n",
      "    The average score obtained by randomly splitting (x, y) into training and \n",
      "    test sets, fitting on the training set, and evaluating score_func on the test set\n",
      "    \n",
      "    Examples\n",
      "    cv_score(clf, x, y, log_likelihood)\n",
      "    \"\"\"\n",
      "    result = 0\n",
      "    nfold = 5\n",
      "    for train, test in KFold(y.size, nfold): # split data into train/test groups, 5 times\n",
      "        clf.fit(x[train], y[train]) # fit\n",
      "        result += score_func(clf, x[test], y[test]) # evaluate score function on held-out data\n",
      "    return result / nfold # average\n",
      "\n",
      "# as a side note, this function is builtin to the newest version of sklearn. We could just write\n",
      "# sklearn.cross_validation.cross_val_score(clf, x, y, scorer=log_likelihood)."
     ],
     "language": "python",
     "metadata": {},
     "outputs": [],
     "prompt_number": 53
    },
    {
     "cell_type": "markdown",
     "metadata": {},
     "source": [
      "**3.7**\n",
      "\n",
      "Fill in the remaining code in this block, to loop over many values of `alpha` and `min_df` to determine\n",
      "which settings are \"best\" in the sense of maximizing the cross-validated log-likelihood"
     ]
    },
    {
     "cell_type": "code",
     "collapsed": false,
     "input": [
      "#the grid of parameters to search over\n",
      "alphas = [0, .1, 1, 5, 10, 50]\n",
      "min_dfs = [1e-5, 1e-4, 1e-3, 1e-2, 1e-1]\n",
      "\n",
      "#Find the best value for alpha and min_df, and the best classifier\n",
      "best_alpha = None\n",
      "best_min_df = None\n",
      "max_loglike = -np.inf\n",
      "\n",
      "for alpha in alphas:\n",
      "    clf = MultinomialNB(alpha=float(alpha))\n",
      "    for min_df in min_dfs:         \n",
      "        vectorizer = CountVectorizer(min_df = min_df)       \n",
      "        X, Y = make_xy(critics, vectorizer)\n",
      "        \n",
      "        #your code here\n",
      "        score=float(cv_score(clf, X.tocsr(), Y, log_likelihood))\n",
      "        #print \" i am processing \",min_df, alpha\n",
      "        #print \"score is \", score\n",
      "        if score>max_loglike:\n",
      "            max_loglike=score\n",
      "            best_alpha=float(alpha)\n",
      "            best_min_df=float(min_df)\n",
      "\n"
     ],
     "language": "python",
     "metadata": {},
     "outputs": [],
     "prompt_number": 54
    },
    {
     "cell_type": "code",
     "collapsed": false,
     "input": [
      "print \"alpha: %f\" % best_alpha\n",
      "print \"min_df: %f\" % best_min_df"
     ],
     "language": "python",
     "metadata": {},
     "outputs": [
      {
       "output_type": "stream",
       "stream": "stdout",
       "text": [
        "alpha: 5.000000\n",
        "min_df: 0.001000\n"
       ]
      }
     ],
     "prompt_number": 55
    },
    {
     "cell_type": "markdown",
     "metadata": {},
     "source": [
      "**3.8** Now that you've determined values for alpha and min_df that optimize the cross-validated log-likelihood, repeat the steps in 3.1, 3.2, and 3.4 to train a final classifier with these parameters, re-evaluate the accuracy, and draw a new calibration plot."
     ]
    },
    {
     "cell_type": "code",
     "collapsed": false,
     "input": [
      "#Your code here\n",
      "def make_xy(critics):\n",
      "    Y=[]\n",
      "    text=critics.quote\n",
      "    vectorizer=CountVectorizer(min_df=0.00100)\n",
      "    vectorizer.fit(text)\n",
      "    X = vectorizer.transform(text)\n",
      "    for item in critics.fresh:\n",
      "        if item=='fresh':\n",
      "            Y.append(1)\n",
      "        else:\n",
      "            Y.append(0)\n",
      "    Y=np.array(Y)\n",
      "    return X ,Y\n",
      "X1, Y= make_xy(critics)\n",
      "\n",
      "word_list=vectorizer.get_feature_names()\n",
      "#print len(word_list)\n",
      "\n",
      "x_train, x_test, y_train, y_test = train_test_split(X, Y, test_size=0.5)\n",
      "clf = MultinomialNB(alpha=5.0000)\n",
      "clf.fit(x_train, y_train)\n",
      "predicty=clf.predict(x_test)\n",
      "\n",
      "count=0\n",
      "for i in range(len(predicty)):\n",
      "    if predicty[i]==y_test[i]:\n",
      "        count+=1\n",
      "accuracy=float(count)/float(len(predicty))\n",
      "print 'the accuracy for the test data is :', accuracy\n",
      "\n",
      "predicttrain=clf.predict(x_train)\n",
      "count=0\n",
      "for i in range(len(predicttrain)):\n",
      "    if predicttrain[i]==y_train[i]:\n",
      "        count+=1\n",
      "accuracy=float(count)/float(len(predicttrain))\n",
      "print 'the accuracy for the training data is : ',accuracy\n",
      "    \n",
      "calibration_plot(clf,x_test,y_test)\n",
      "\n",
      "#print X.shape"
     ],
     "language": "python",
     "metadata": {},
     "outputs": [
      {
       "output_type": "stream",
       "stream": "stdout",
       "text": [
        "2115\n",
        "the accuracy for the test data is :"
       ]
      },
      {
       "output_type": "stream",
       "stream": "stdout",
       "text": [
        " 0.728567761807\n",
        "the accuracy for the training data is :  0.798896303901\n"
       ]
      },
      {
       "metadata": {},
       "output_type": "display_data",
       "png": "[encoded data removed]",
       "text": [
        "<matplotlib.figure.Figure at 0x10a3d7110>"
       ]
      },
      {
       "output_type": "stream",
       "stream": "stdout",
       "text": [
        "(15584, 2115)\n"
       ]
      },
      {
       "metadata": {},
       "output_type": "display_data",
       "png": "[encoded data removed]",
       "text": [
        "<matplotlib.figure.Figure at 0x10985ae50>"
       ]
      }
     ],
     "prompt_number": 65
    },
    {
     "cell_type": "markdown",
     "metadata": {},
     "source": [
      "**3.9** Discuss the various ways in which Cross-Validation has affected the model. Is the new model more or less accurate? Is overfitting better or worse? Is the model more or less calibrated?"
     ]
    },
    {
     "cell_type": "markdown",
     "metadata": {},
     "source": [
      "*Your Answer Here*\n",
      "\n",
      "*We could have changed our ways of choosing the training sets and testing sets. The overfitting is better this time, since we can see an obvious decrease in the accuracy for the trainning data, while the accuracy for the test data remains similar. Nevertheless, from another perspective, the accuracy for the training sets and testing sets are a lot more consistent now. The new model is less accurate, but it indeed improved in the overfitting issue. It is also more calibrated, as we can see from the graph above. "
     ]
    },
    {
     "cell_type": "markdown",
     "metadata": {},
     "source": [
      "*To think about/play with, but not to hand in: What would happen if you tried this again using a function besides the log-likelihood -- for example, the classification accuracy?*\n",
      "\n",
      "*Using the classification accuracy, we should have a more accurate result, but because of our focus on accuracy now, we will probabibly encounter the overfitting problem again."
     ]
    },
    {
     "cell_type": "markdown",
     "metadata": {},
     "source": [
      "## Part 4: Interpretation. What words best predict a fresh or rotten review?\n",
      "\n",
      "**4.1**\n",
      "Using your classifier and the `vectorizer.get_feature_names` method, determine which words best predict a positive or negative review. Print the 10 words\n",
      "that best predict a \"fresh\" review, and the 10 words that best predict a \"rotten\" review. For each word, what is the model's probability of freshness if the word appears one time?\n",
      "\n",
      "#### Hints\n",
      "\n",
      "* Try computing the classification probability for a feature vector which consists of all 0s, except for a single 1. What does this probability refer to?\n",
      "\n",
      "* `np.eye` generates a matrix where the ith row is all 0s, except for the ith column which is 1."
     ]
    },
    {
     "cell_type": "code",
     "collapsed": false,
     "input": [
      "# Your code here\n",
      "#I already used feature.get_name in the previous question to get the lit of words, named word_list\n",
      "I=np.eye(X.shape[1])\n",
      "p_fresh=pd.DataFrame(clf.predict_proba(I),index=word_list) \n",
      "p_fresh.rename(columns={p_fresh.columns[0]:'rotten'}, inplace=True)\n",
      "p_fresh.rename(columns={p_fresh.columns[1]:'fresh'}, inplace=True)\n",
      "p_fresh1=p_fresh.sort(column='fresh',axis=0,ascending=0)\n",
      "p_fresh2=p_fresh.sort(column='rotten',axis=0,ascending=0)\n",
      "print 'the 10 words that best predict a fresh review: ', list(p_fresh1.index)[0:9]\n",
      "print \n",
      "print 'the 10 words that best predict a rotten review: ', list(p_fresh2.index)[0:9]\n",
      "print \n",
      "for item in list(p_fresh1.index)[0:9]:\n",
      "    vector=np.zeros(len(word_list))\n",
      "    for j in range(len(word_list)):\n",
      "        if item==word_list[j]:\n",
      "            vector[j]=1\n",
      "    print item,'s freshness probability is', clf.predict_proba(vector)[:,1]\n",
      "print \n",
      "print\n",
      "\n",
      "for item in list(p_fresh2.index)[0:9]:\n",
      "    vector=np.zeros(len(word_list))\n",
      "    for j in range(len(word_list)):\n",
      "        if item==word_list[j]:\n",
      "            vector[j]=1\n",
      "    print item,'s freshness probability is', clf.predict_proba(vector)[:,1]\n",
      "\n",
      "\n"
     ],
     "language": "python",
     "metadata": {},
     "outputs": [
      {
       "output_type": "stream",
       "stream": "stdout",
       "text": [
        "the 10 words that best predict a fresh review:  [u'masterpiece', u'touching', u'witty', u'rare', u'perfect', u'delight', u'hilarious', u'enjoyable', u'beautifully']\n",
        "\n",
        "the 10 words that best predict a rotten review:  [u'unfortunately', u'lame', u'bland', u'unfunny', u'uninspired', u'fails', u'lacks', u'waste', u'awful']\n",
        "\n",
        "masterpiece s freshness probability is [ 0.89930761]\n",
        "touching s freshness probability is [ 0.8912538]\n",
        "witty s freshness probability is [ 0.87228233]\n",
        "rare s freshness probability is [ 0.85798923]\n",
        "perfect s freshness probability is [ 0.85529011]\n",
        "delight s freshness probability is [ 0.85473793]\n",
        "hilarious s freshness probability is [ 0.85083496]\n",
        "enjoyable s freshness probability is [ 0.84857464]\n",
        "beautifully s freshness probability is [ 0.8474186]\n",
        "\n",
        "\n",
        "unfortunately s freshness probability is [ 0.1645869]\n",
        "lame s freshness probability is [ 0.16809768]\n",
        "bland s freshness probability is [ 0.17857271]\n",
        "unfunny s freshness probability is [ 0.22273577]\n",
        "uninspired s freshness probability is [ 0.22592861]\n",
        "fails s freshness probability is [ 0.22860983]\n",
        "lacks s freshness probability is [ 0.2332228]\n",
        "waste s freshness probability is [ 0.23608103]\n",
        "awful s freshness probability is [ 0.24230287]\n"
       ]
      },
      {
       "output_type": "stream",
       "stream": "stderr",
       "text": [
        "/Users/zhijiezhou/anaconda/lib/python2.7/site-packages/pandas/core/frame.py:3095: FutureWarning: column is deprecated, use columns\n",
        "  warnings.warn(\"column is deprecated, use columns\", FutureWarning)\n"
       ]
      }
     ],
     "prompt_number": 66
    },
    {
     "cell_type": "markdown",
     "metadata": {},
     "source": [
      "**4.2**\n",
      "\n",
      "One of the best sources for inspiration when trying to improve a model is to look at examples where the model performs poorly. \n",
      "\n",
      "Find 5 fresh and rotten reviews where your model performs particularly poorly. Print each review."
     ]
    },
    {
     "cell_type": "code",
     "collapsed": false,
     "input": [
      "#Your code here\n",
      "review=critics[['quote','fresh']]\n",
      "review['p_fresh']=clf.predict_proba(X)[:,1]\n",
      "review['p_rotten']=clf.predict_proba(X)[:,0]\n",
      "newreview1=review[review.fresh=='fresh'].sort(column='p_fresh',axis=0,ascending=1)\n",
      "print 'the 5 fresh reviews where the model performs poorly: '\n",
      "print\n",
      "print newreview1.head(5).quote.values\n",
      "print \n",
      "newreview2=review[review.fresh=='rotten'].sort(column='p_rotten',axis=0,ascending=1)\n",
      "print 'the 5 rotten reviews where the model performs poorly: '\n",
      "print \n",
      "print newreview2.head(5).quote.values\n",
      "print "
     ],
     "language": "python",
     "metadata": {},
     "outputs": [
      {
       "output_type": "stream",
       "stream": "stdout",
       "text": [
        "the 5 fresh reviews where the model performs poorly: \n",
        "\n",
        "[ 'This tough-to-peg whodunit keeps you going for two hours, despite a few James Bond-ish (or Jane Bond-ish) turns that play less preposterously than you might assume were they to be divulged.'\n",
        " \"Though it's a good half hour too long, this overblown 1993 spin-off of the 60s TV show otherwise adds up to a pretty good suspense thriller.\"\n",
        " \"There's too much talent and too strong a story to mess it up. There was potential for more here, but this incarnation is nothing to be ashamed of, and some of the actors answer the bell.\"\n",
        " \"The gangland plot is flimsy (bad guy Peter Greene wears too much eyeliner), and the jokes are erratic, but it's a far better showcase for Carrey's comic-from-Uranus talent than Ace Ventura.\"\n",
        " 'Considering the recent screen standards in book musicals with five numbers for 100 to 110 minutes of running time this Metro Santaclausing of numbers becomes virtually a double-feature filmusical.']\n",
        "\n",
        "the 5 rotten reviews where the model performs poorly: \n",
        "\n",
        "[ 'It survives today only as an unusually pure example of a typical 50s art-film strategy: the attempt to make the most modern and most popular of art forms acceptable to the intelligentsia by forcing it into an arcane, antique mold.'\n",
        " 'Though Russell is most impressive for his writing and his immensely witty direction of actors, Three Kings begins by placing its emphasis firmly elsewhere.'\n",
        " \"Nava, who started his feature-film career with El Norte, is a good director who invariably finds a strong rapport with his actors. He's not much of a writer, though, and he should think twice about creating dialogue for his future projects.\"\n",
        " \"The thought that he may yet return for further adventures with his body and Lugosi's sconce fills us with mortal terror. That is the most fearful prospect which the picture manages to convey.\"\n",
        " 'Part comedy, part family drama, part romance, part special-effects mystery-adventure, and not entirely satisfying on any of these levels.']\n",
        "\n"
       ]
      }
     ],
     "prompt_number": 67
    },
    {
     "cell_type": "markdown",
     "metadata": {},
     "source": [
      "**4.3** What do you notice about these mis-predictions? Naive Bayes classifiers assume that every word affects the probability independently of other words. In what way is this a bad assumption? In your answer, report your classifier's Freshness probability for the review \"This movie is not remarkable, touching, or superb in any way\"."
     ]
    },
    {
     "cell_type": "markdown",
     "metadata": {},
     "source": [
      "*Your answer here*\n",
      "\n",
      "The mis predictions usually contain the opposite words of what they are actually expressing. For example, the rotten view consists of words like 'better', 'great', 'funny', but they are actually trying to say the opposite. It is a bad assumption for Naive Bayes classifiers to assume that every word affects the probability independently of other words because some words like 'but', 'nevertherless', 'however' could fundamentally alter the meaning of the sentence. Therefore, we should definitely consider under what context, or with what other words, these words appear. "
     ]
    },
    {
     "cell_type": "code",
     "collapsed": false,
     "input": [
      "test='This movie is not remarkable  touching or superb in any way'.split()\n",
      "array=np.zeros(len(word_list))\n",
      "for i in range(len(test)):\n",
      "    for j in range(len(word_list)):\n",
      "        if test[i]==word_list[j]:\n",
      "            array[j]=1\n",
      "print 'the freshness probability for the review is : ', clf.predict_proba(array)[:,1]\n",
      "\n",
      "    "
     ],
     "language": "python",
     "metadata": {},
     "outputs": [
      {
       "output_type": "stream",
       "stream": "stdout",
       "text": [
        "the freshness probability for the review is :  [ 0.98167666]\n"
       ]
      },
      {
       "metadata": {},
       "output_type": "pyout",
       "prompt_number": 69,
       "text": [
        "'rev = \\'This movie is not remarkable  touching or superb in any way\\'\\nrev = rev.split()\\nkeywordsls = word_list\\nX = np.zeros(len(keywordsls))\\nfor wd in rev:\\n    if wd in keywordsls:\\n        X[keywordsls.index(wd)] = 1\\n      \\nprint \"My classifier\\'s Freshness Probability is \" + str(clf.predict_proba(X)[0,1])'"
       ]
      }
     ],
     "prompt_number": 69
    },
    {
     "cell_type": "markdown",
     "metadata": {},
     "source": [
      "**4.4**\n",
      "If this was your final project, what are 3 things you would try in order to build a more effective review classifier? What other exploratory or explanatory visualizations do you think might be helpful?"
     ]
    },
    {
     "cell_type": "markdown",
     "metadata": {},
     "source": [
      "*Your answer here*\n",
      "\n",
      "Fist of all, I will try to comsider words conditionally with other words in the sentence,instead of looking at it individually, such as look for the occurance of words like 'but', 'however' first, then look for what other words there are, and decide whether if we should use those words the way they are or the opposite. Secondaly, I will try to explore other functions besides log_likelyhood. Also, we only searched for the best parameters of alpha and min_df. We can certainly try to look for more besides these two. Maybe we can use PCA and scatter plots to find out two most influential factors, and plot them. "
     ]
    },
    {
     "cell_type": "markdown",
     "metadata": {},
     "source": [
      "### How to Submit\n",
      "\n",
      "Restart and run your notebook one last time, to make sure the output from each cell is up to date. To submit your homework, create a folder named lastname_firstinitial_hw3 and place your solutions in the folder. Double check that the file is still called HW3.ipynb, and that it contains your code. Please do **not** include the critics.csv data file, if you created one. Compress the folder (please use .zip compression) and submit to the CS109 dropbox in the appropriate folder. If we cannot access your work because these directions are not followed correctly, we will not grade your work!"
     ]
    },
    {
     "cell_type": "markdown",
     "metadata": {},
     "source": [
      "---\n",
      "*css tweaks in this cell*\n",
      "<style>\n",
      "div.text_cell_render {\n",
      "    line-height: 150%;\n",
      "    font-size: 110%;\n",
      "    width: 800px;\n",
      "    margin-left:50px;\n",
      "    margin-right:auto;\n",
      "    }\n",
      "</style>"
     ]
    }
   ],
   "metadata": {}
  }
 ]
}